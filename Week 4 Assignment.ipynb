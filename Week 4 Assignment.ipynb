{
    "cells": [
        {
            "cell_type": "markdown",
            "metadata": {},
            "source": "Segmenting and Clustering Neighbourhoods in Fredericton"
        },
        {
            "cell_type": "markdown",
            "metadata": {},
            "source": "Introduction to the opportunity"
        },
        {
            "cell_type": "markdown",
            "metadata": {},
            "source": "Fredericton is the Capital City of the only Canadian bilingual Province of New Brunswick. While one of the least populated provincial capital cities with a population base of less than 60 thousand residents, it offers a wide spectrum of venues and is a governement, university and cultural hub.\n\nAs the city grows and develops, it becomes increasingly important to examine and understand it quantitiatively. The City of Fredericton provides open data for everyone and encourages entrepreneurial use to develop services for the benefit of its ciitzens.\n\nDevelopers and policy makers have an interest in answering the following questions:\n\nWhat neighbourhoods have the highest crime?\nIs population density correlated to crime level?\nUsing Foursquare data, what venues are most common in different locations within the city?\nDoes the Knowledge Park really need a coffee shop?"
        },
        {
            "cell_type": "markdown",
            "metadata": {},
            "source": "Data we will use to tackle this problem"
        },
        {
            "cell_type": "markdown",
            "metadata": {},
            "source": "Open Data Site: http://data-fredericton.opendata.arcgis.com/"
        },
        {
            "cell_type": "markdown",
            "metadata": {},
            "source": "Fredericton Neighbourhoods: http://data-fredericton.opendata.arcgis.com/datasets/neighbourhoods--quartiers"
        },
        {
            "cell_type": "markdown",
            "metadata": {},
            "source": "Fredericton Crime by Neighbourhood: http://data-fredericton.opendata.arcgis.com/datasets/crime-by-neighbourhood-2017--crime-par-quartier-2017"
        },
        {
            "cell_type": "markdown",
            "metadata": {},
            "source": "Fredericton Census Tract Demographics: http://data-fredericton.opendata.arcgis.com/datasets/census-tract-demographics--donn%C3%A9es-d%C3%A9mographiques-du-secteur-de-recensement"
        },
        {
            "cell_type": "markdown",
            "metadata": {},
            "source": "Fredericton locations of interest: https://github.com/JasonLUrquhart/Applied-Data-Science-Capstone/blob/master/Fredericton%20Locations.xlsx"
        },
        {
            "cell_type": "markdown",
            "metadata": {},
            "source": "Foursquare Developers Access to venue data: https://foursquare.com/"
        },
        {
            "cell_type": "markdown",
            "metadata": {},
            "source": "The use of this data will allow us to examine the data to best answer these questions. The neighbourhood data will enable us to properly group crime by neighbourhood. The Census data will enable us to then compare the population density to examine if areas of highest crime are also most densely populated. Fredericton locations of interest will then allow us to cluster and quantitatively understand the venues most common to that location."
        }
    ],
    "metadata": {
        "kernelspec": {
            "display_name": "Python 3.6",
            "language": "python",
            "name": "python3"
        },
        "language_info": {
            "codemirror_mode": {
                "name": "ipython",
                "version": 3
            },
            "file_extension": ".py",
            "mimetype": "text/x-python",
            "name": "python",
            "nbconvert_exporter": "python",
            "pygments_lexer": "ipython3",
            "version": "3.6.9"
        }
    },
    "nbformat": 4,
    "nbformat_minor": 1
}